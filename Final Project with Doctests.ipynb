{
 "cells": [
  {
   "cell_type": "code",
   "execution_count": 1,
   "metadata": {},
   "outputs": [
    {
     "name": "stderr",
     "output_type": "stream",
     "text": [
      "C:\\Users\\2010y\\Anaconda3\\lib\\site-packages\\statsmodels\\tools\\_testing.py:19: FutureWarning: pandas.util.testing is deprecated. Use the functions in the public API at pandas.testing instead.\n",
      "  import pandas.util.testing as tm\n"
     ]
    }
   ],
   "source": [
    "import pandas as pd\n",
    "import re\n",
    "import numpy as np\n",
    "import matplotlib.pyplot as plt\n",
    "import statsmodels.api as sm\n",
    "from scipy import stats"
   ]
  },
  {
   "cell_type": "code",
   "execution_count": 2,
   "metadata": {},
   "outputs": [],
   "source": [
    "def preprocess_civil(filename)->pd.DataFrame:\n",
    "    \"\"\"\n",
    "    Reads given filename and places the right column name for even rows and odd rows.\n",
    "    After giving the right column name, merge even rows and odd rows to have them in one row.\n",
    "\n",
    "    :param filename: filename as a string like: \"09905-0002-Data.txt\"\n",
    "    :return: cleaned pd.DataFrame\n",
    "\n",
    "    >>> preprocess_civil(\"09905-0002-Data.txt\")['war number'].iloc[0]\n",
    "    601\n",
    "\n",
    "    >>> preprocess_civil(\"09905-0002-Data.txt\")['fatalities'].iloc[0]\n",
    "    7000\n",
    "    \"\"\"\n",
    "    data = pd.read_csv(filename, header=None, delimiter=r\"\\s+\")\n",
    "    even = data.iloc[::2] #even rows dataframe\n",
    "    odd = data.iloc[1::2] #odd rows dataframe\n",
    "    odd = odd.iloc[:, :-4] #get rid of columns of NAs\n",
    "    even.columns=[\n",
    "    'war number', 'Singer-Small country code', 'year of war start', 'month of war start', 'day of war start',\n",
    "    'year of war end', 'month of war end', 'day of war end', 'year of second war start', 'month of second war start',\n",
    "    'day of second war start', 'year of second war end', 'month of second war end', 'day of second war end',\n",
    "    'year of third war start', 'month of third war start', 'day of third war start', 'year of third war end',\n",
    "    'month of third war end', 'day of third war end'\n",
    "    ]\n",
    "    odd.columns=[\n",
    "    'outside intervention', 'fought in member of central sub-system', 'fought in major power', 'outcome of war',\n",
    "    'western hemisphere', 'europe', 'africa', 'middle east', 'asia', 'oceania', 'fatalities', 'duration',\n",
    "    'population before war', 'military', 'system membership', 'intervened by'\n",
    "    ]\n",
    "    even=even.reset_index(drop=True)\n",
    "    odd = odd.reset_index(drop=True)\n",
    "    civilwar = even.merge(odd, left_index=True, right_index=True)\n",
    "    return civilwar"
   ]
  },
  {
   "cell_type": "code",
   "execution_count": 3,
   "metadata": {},
   "outputs": [],
   "source": [
    "def preprocess_civilcodebook(filename) -> pd.DataFrame:\n",
    "    \"\"\"\n",
    "    Read codebook to map the 'Singer-Small country code' to the country name\n",
    "\n",
    "    :param filename: filename as a string like \"09905-Codebook.txt\"\n",
    "    :return: cleaned pd.DataFrame\n",
    "\n",
    "    >>> preprocess_civilcodebook(\"09905-Codebook.txt\")['country'].iloc[0]\n",
    "    'SPAIN'\n",
    "\n",
    "    >>> preprocess_civilcodebook(\"09905-Codebook.txt\")['war number'].iloc[0]\n",
    "    601\n",
    "\n",
    "    \"\"\"\n",
    "    with open(filename) as f:\n",
    "        lines=f.readlines()\n",
    "        x1=[]\n",
    "        x2=[]\n",
    "        for i in lines[1316:1467]:\n",
    "            try:\n",
    "                start_index=i.index('   ')\n",
    "                end_index=i.index('(')\n",
    "            except ValueError:\n",
    "                continue\n",
    "            x1.append(i[1:4])\n",
    "            x2.append(re.sub(r\" ?\\[[^)]+\\]\", \"\", i[start_index:end_index].strip()))\n",
    "            df=pd.DataFrame(x1, x2, columns=['war number'])\n",
    "            df.reset_index(inplace=True)\n",
    "            df=df.rename(columns={'index': 'country'})\n",
    "            df['war number'] = df['war number'].astype(int)\n",
    "        return df"
   ]
  },
  {
   "cell_type": "code",
   "execution_count": 4,
   "metadata": {},
   "outputs": [],
   "source": [
    "def merge_civil_codebook(civil, codebook)->pd.DataFrame:\n",
    "    \"\"\"\n",
    "    Takes cleaned civil war data and codebook and merge two DataFrames.\n",
    "    In civil war data, the year was recorded without 1000.\n",
    "    For instance, 1801 was recorded as 801.\n",
    "    For compatibility, this function add 1000 to changes the year into 1801.\n",
    "\n",
    "    :param civil: a pd.DataFrame from preprocess_civil() function\n",
    "    :param codebook: a pd.DataFrame from preprocess_civilcodebook() function\n",
    "    :return: a merged pd.DataFrame\n",
    "\n",
    "    >>> merge_civil_codebook(civil, df)['year of war start'].iloc[0]\n",
    "    1821\n",
    "\n",
    "    >>> merge_civil_codebook(civil, df)['year of war end'].iloc[0]\n",
    "    1823\n",
    "    \"\"\"\n",
    "\n",
    "    #In the codebook, warnumber 601 is not recorded but it exists in the data\n",
    "    #We lose 2 records. In total, we have 202 cases\n",
    "    coded=civil.merge(codebook, left_on='war number', right_on='war number')\n",
    "    #change the year\n",
    "    coded['year of war start'] += 1000\n",
    "    coded['year of war end'] += 1000\n",
    "    for idx, row in coded.iterrows():\n",
    "        if row['year of second war end'] != 0:\n",
    "            coded['year of war end'].iloc[idx] = row['year of second war end'] + 1000\n",
    "        else:\n",
    "            continue\n",
    "    coded=coded.drop(columns=['year of second war start', 'year of second war end',\n",
    "                              'year of third war start', 'year of third war end'], axis=1)\n",
    "    return coded"
   ]
  },
  {
   "cell_type": "code",
   "execution_count": 5,
   "metadata": {},
   "outputs": [],
   "source": [
    "def control_country(coded)-> pd.DataFrame:\n",
    "    \"\"\"\n",
    "    Takes cleaned pd.DataFrame from merge_civil_codebook() and control the country name\n",
    "    1) Correct typos\n",
    "    2) Match the country names between pd.DataFrame from democracy data\n",
    "    e.g., LAOS into Lao Pdr, SOUTH YEMEN into Yemen Pdr\n",
    "\n",
    "    :param coded: a pd.DataFrame after merging codebook and civil data\n",
    "    :return: a pd.DataFrame changed the country name\n",
    "\n",
    "    >>> control_country(coded)['country'].iloc[54]\n",
    "    'RUSSIAN FEDERATION'\n",
    "\n",
    "    \"\"\"\n",
    "    for idx, val in coded.iterrows():\n",
    "        #for Austria-hungary I splited into two countries. So we have 203 records\n",
    "        if val['country']=='AUSTRIA-HUNGARY':\n",
    "            val[4]='AUSTRIA'\n",
    "            coded.loc[len(coded)]=val\n",
    "            val[4]='HUNGARY'\n",
    "            coded.loc[len(coded)]=val\n",
    "            coded=coded.drop(idx)\n",
    "        if val['country']=='BRUNDI':\n",
    "            val[4]='BURUNDI'\n",
    "            coded.loc[idx]=val\n",
    "        if val['country']=='FINNISH':\n",
    "            val[4]='FINLAND'\n",
    "            coded.loc[idx]=val\n",
    "        if val['country']=='RUMANIA':\n",
    "            val[4]='ROMANIA'\n",
    "            coded.loc[idx]=val\n",
    "        if val['country']=='TURKEY/OTTOMAN EMPIRE':\n",
    "            val[4]='TURKEY'\n",
    "            coded.loc[idx]=val\n",
    "        if val['country']=='UGANDAN':\n",
    "            val[4]='UGANDA'\n",
    "            coded.loc[idx]=val\n",
    "        if val['country']=='RUSSIA/SOVIET UNION':\n",
    "            val[4]='RUSSIA'\n",
    "            coded.loc[idx]=val\n",
    "        if val['country']=='KAMPUCHEA':\n",
    "            val[4]='CAMBODIA'\n",
    "            coded.loc[idx]=val\n",
    "        #name matching with democracy dataset\n",
    "        if val['country']=='BOSNIA':\n",
    "            val[4]='Bosnia and Herzegov'\n",
    "            coded.loc[idx]=val\n",
    "        if val['country']=='BURMA':\n",
    "            val[4]='Myanmar'\n",
    "            coded.loc[idx]=val\n",
    "        if val['country']=='IRAN':\n",
    "            val[4]='Iran, Islamic Rep'\n",
    "            coded.loc[idx]=val\n",
    "        if val['country']=='LAOS':\n",
    "            val[4]='Lao Pdr'\n",
    "            coded.loc[idx]=val\n",
    "        if val['country']=='RUSSIA':\n",
    "            val[4]='Russian Federation'\n",
    "            coded.loc[idx]=val\n",
    "        if val['country']=='SOUTH YEMEN':\n",
    "            val[4]='Yemen Pdr'\n",
    "            coded.loc[idx]=val\n",
    "        if val['country']=='UNITED STATES OF AMERICA':\n",
    "            val[4]='United States'\n",
    "            coded.loc[idx]=val\n",
    "        if val['country']=='TAKJIKISTAN':\n",
    "            val[4]='Tajikistan'\n",
    "            coded.loc[idx]=val\n",
    "        if val['country']=='VIETNAM, REPUBLIC OF':\n",
    "            val[4]='Vietnam, North'\n",
    "            coded.loc[idx]=val\n",
    "        if val['country']=='YEMEN ARAB REPUBLIC':\n",
    "            val[4]='Yemen, Rep.'\n",
    "            coded.loc[idx]=val\n",
    "    coded['country']=coded['country'].str.upper()\n",
    "    coded=coded.rename(columns={'country':'ctryname'})\n",
    "    coded.reset_index(drop=True)\n",
    "    return coded"
   ]
  },
  {
   "cell_type": "code",
   "execution_count": 6,
   "metadata": {},
   "outputs": [],
   "source": [
    "def preprocess_democracy(filename)-> pd.DataFrame:\n",
    "    \"\"\"\n",
    "    Reads filename and if democracy index is NA and liberty index is NA, get rid of the rows.\n",
    "\n",
    "    :param filename: a string like \"20440-0001-Data.tsv\"\n",
    "    :return: a cleaned pd.DataFrame\n",
    "\n",
    "    >>> preprocess_democracy(\"20440-0001-Data.tsv\")['ctryname'].loc[15634]\n",
    "    'FIJI'\n",
    "\n",
    "    \"\"\"\n",
    "    #SARDINA is not in the democracy data file\n",
    "    democracy=pd.read_csv(filename, sep='\\t')\n",
    "    democracy['ctryname']=democracy['ctryname'].str.upper()\n",
    "    ###delete\n",
    "    democ_index=democracy[democracy['democ']!='-99']\n",
    "    democ_index=democ_index[democ_index['democ']!='-88']\n",
    "    democ_index=democ_index[democ_index['democ']!='-77']\n",
    "    democ_index=democ_index[democ_index['democ']!='-66']\n",
    "    democ_index=democ_index[democ_index['democ']!='-55']\n",
    "    democ_index=democ_index[democ_index['democ']!= ' ']\n",
    "    ###\n",
    "    democ_index=democ_index[democ_index['liberty']!= ' ']\n",
    "    democ_index=democ_index[democ_index['liberty']!= '-99']\n",
    "    return democ_index"
   ]
  },
  {
   "cell_type": "code",
   "execution_count": 7,
   "metadata": {},
   "outputs": [],
   "source": [
    "def join_df_democ(coded, democ_index, restore_year)-> pd.DataFrame:\n",
    "    \"\"\"\n",
    "    Reads two pd.DataFrames from civil war data and democracy data\n",
    "    After joining two pd.DataFrames, calculate the changes in democracy score after given restore_year\n",
    "\n",
    "    :param coded: a pd.DataFrame from control_country() function\n",
    "    :param democ_index: a pd.DataFrame from preprocess_democracy() function\n",
    "    :param restore_year: the number of years to be considered as a buffer to give restoration from civil war\n",
    "    :return: a pd.DataFrame\n",
    "\n",
    "    >>>join_df_democ(coded, democ_index, restore_year)['delta'].loc[4]\n",
    "    3\n",
    "    >>>join_df_democ(coded, democ_index, restore_year)['ratio'].loc[4]\n",
    "    0.00583941605839416\n",
    "\n",
    "    \"\"\"\n",
    "    dfcols=['ctryname', 'score before year', 'score before', 'fatal', 'pop', 'ratio', 'score after year', 'score after', 'delta']\n",
    "    df=pd.DataFrame(columns=dfcols)\n",
    "    for idx, val in coded.iterrows():\n",
    "        if val['ctryname'] in democ_index['ctryname'].values:\n",
    "            try:\n",
    "                df=df.append(\n",
    "                pd.Series(\n",
    "                    [val['ctryname'],\n",
    "                    val['year of war start'],\n",
    "                    democ_index[(democ_index['ctryname']==val['ctryname']) & (democ_index['year']==val['year of war start'])]['democ'].to_numpy()[0],\n",
    "                    val['fatalities'],\n",
    "                    democ_index[(democ_index['ctryname']==val['ctryname']) & (democ_index['year']==val['year of war start'])]['poptotal'].to_numpy()[0],\n",
    "                    0,\n",
    "                    val['year of war end']+restore_year,\n",
    "                    democ_index[(democ_index['ctryname']==val['ctryname']) & (democ_index['year']==val['year of war end']+restore_year)]['democ'].to_numpy()[0],\n",
    "                    0\n",
    "                    ], index=dfcols), ignore_index=True)\n",
    "            except IndexError:\n",
    "                continue\n",
    "    for idx, val in df.iterrows():\n",
    "        val['pop']=val['pop']+'000'\n",
    "        try:\n",
    "            df['score before'][idx]=int(df['score before'][idx][0])\n",
    "        except IndexError:\n",
    "            df['score before'][idx]=0\n",
    "        try:\n",
    "            df['score after'][idx]=int(df['score after'][idx][0])\n",
    "        except IndexError:\n",
    "            df['score after'][idx]=0\n",
    "        try:\n",
    "            val['ratio']=float(val['fatal'])/float(val['pop'])\n",
    "        except:\n",
    "            val['ratio']=0\n",
    "    df['delta']=df['score after']-df['score before']\n",
    "    return df"
   ]
  },
  {
   "cell_type": "code",
   "execution_count": 8,
   "metadata": {},
   "outputs": [],
   "source": [
    "def join_df_liberty(coded, democ_index, restore_year)->pd.DataFrame:\n",
    "    \"\"\"\n",
    "    Reads two pd.DataFrames from civil war data and democracy data\n",
    "    After joining two pd.DataFrames, calculate the changes in liberty score after given restore_year\n",
    "\n",
    "    :param coded: a pd.DataFrame from control_country() function\n",
    "    :param democ_index: a pd.DataFrame from preprocess_democracy() function\n",
    "    :param restore_year: the number of years to be considered as a buffer to give restoration from civil war\n",
    "    :return: a pd.DataFrame\n",
    "\n",
    "    >>>join_df_liberty(coded, democ_index, restore_year)['delta'].loc[3]\n",
    "    0\n",
    "    >>>join_df_liberty(coded, democ_index, restore_year)['ratio'].loc[3]\n",
    "    0.00018541409147095178\n",
    "    \"\"\"\n",
    "    dfcols=['ctryname', 'score before year', 'score before', 'fatal', 'pop', 'ratio', 'score after year', 'score after', 'delta']\n",
    "    df=pd.DataFrame(columns=dfcols)\n",
    "    for idx, val in coded.iterrows():\n",
    "        if val['ctryname'] in democ_index['ctryname'].values:\n",
    "            try:\n",
    "                df=df.append(\n",
    "                pd.Series(\n",
    "                    [val['ctryname'],\n",
    "                    val['year of war start'],\n",
    "                    democ_index[(democ_index['ctryname']==val['ctryname']) & (democ_index['year']==val['year of war start'])]['liberty'].to_numpy()[0],\n",
    "                    val['fatalities'],\n",
    "                    democ_index[(democ_index['ctryname']==val['ctryname']) & (democ_index['year']==val['year of war start'])]['poptotal'].to_numpy()[0],\n",
    "                    0,\n",
    "                    val['year of war end']+restore_year,\n",
    "                    democ_index[(democ_index['ctryname']==val['ctryname']) & (democ_index['year']==val['year of war end']+restore_year)]['liberty'].to_numpy()[0],\n",
    "                    0\n",
    "                    ], index=dfcols), ignore_index=True)\n",
    "            except IndexError:\n",
    "                continue\n",
    "    for idx, val in df.iterrows():\n",
    "        val['pop']=val['pop']+'000'\n",
    "        try:\n",
    "            val['ratio']=float(val['fatal'])/float(val['pop'])\n",
    "        except:\n",
    "            val['ratio']=0\n",
    "    df['delta']=df['score after'].astype(float)-df['score before'].astype(float)\n",
    "    df['pop']=df['pop']\n",
    "    return df"
   ]
  },
  {
   "cell_type": "code",
   "execution_count": 9,
   "metadata": {},
   "outputs": [],
   "source": [
    "civil=preprocess_civil(\"09905-0002-Data.txt\")[['war number', 'fatalities', 'year of war start',\n",
    "               'year of war end', 'year of second war start',\n",
    "               'year of second war end', 'year of third war start',\n",
    "               'year of third war end']]"
   ]
  },
  {
   "cell_type": "code",
   "execution_count": 10,
   "metadata": {},
   "outputs": [],
   "source": [
    "df=preprocess_civilcodebook(\"09905-Codebook.txt\")"
   ]
  },
  {
   "cell_type": "code",
   "execution_count": 11,
   "metadata": {},
   "outputs": [
    {
     "name": "stderr",
     "output_type": "stream",
     "text": [
      "C:\\Users\\2010y\\Anaconda3\\lib\\site-packages\\pandas\\core\\indexing.py:1637: SettingWithCopyWarning: \n",
      "A value is trying to be set on a copy of a slice from a DataFrame\n",
      "\n",
      "See the caveats in the documentation: https://pandas.pydata.org/pandas-docs/stable/user_guide/indexing.html#returning-a-view-versus-a-copy\n",
      "  self._setitem_single_block(indexer, value, name)\n"
     ]
    }
   ],
   "source": [
    "coded=merge_civil_codebook(civil, df)"
   ]
  },
  {
   "cell_type": "code",
   "execution_count": 12,
   "metadata": {},
   "outputs": [
    {
     "data": {
      "text/html": [
       "<div>\n",
       "<style scoped>\n",
       "    .dataframe tbody tr th:only-of-type {\n",
       "        vertical-align: middle;\n",
       "    }\n",
       "\n",
       "    .dataframe tbody tr th {\n",
       "        vertical-align: top;\n",
       "    }\n",
       "\n",
       "    .dataframe thead th {\n",
       "        text-align: right;\n",
       "    }\n",
       "</style>\n",
       "<table border=\"1\" class=\"dataframe\">\n",
       "  <thead>\n",
       "    <tr style=\"text-align: right;\">\n",
       "      <th></th>\n",
       "      <th>war number</th>\n",
       "      <th>fatalities</th>\n",
       "      <th>year of war start</th>\n",
       "      <th>year of war end</th>\n",
       "      <th>country</th>\n",
       "    </tr>\n",
       "  </thead>\n",
       "  <tbody>\n",
       "    <tr>\n",
       "      <th>0</th>\n",
       "      <td>601</td>\n",
       "      <td>7000</td>\n",
       "      <td>1821</td>\n",
       "      <td>1823</td>\n",
       "      <td>SPAIN</td>\n",
       "    </tr>\n",
       "    <tr>\n",
       "      <th>1</th>\n",
       "      <td>602</td>\n",
       "      <td>2000</td>\n",
       "      <td>1820</td>\n",
       "      <td>1821</td>\n",
       "      <td>TWO SICILIES</td>\n",
       "    </tr>\n",
       "    <tr>\n",
       "      <th>2</th>\n",
       "      <td>602</td>\n",
       "      <td>0</td>\n",
       "      <td>1821</td>\n",
       "      <td>1821</td>\n",
       "      <td>TWO SICILIES</td>\n",
       "    </tr>\n",
       "    <tr>\n",
       "      <th>3</th>\n",
       "      <td>603</td>\n",
       "      <td>1000</td>\n",
       "      <td>1821</td>\n",
       "      <td>1821</td>\n",
       "      <td>SARDINIA</td>\n",
       "    </tr>\n",
       "    <tr>\n",
       "      <th>4</th>\n",
       "      <td>603</td>\n",
       "      <td>0</td>\n",
       "      <td>1821</td>\n",
       "      <td>1821</td>\n",
       "      <td>SARDINIA</td>\n",
       "    </tr>\n",
       "  </tbody>\n",
       "</table>\n",
       "</div>"
      ],
      "text/plain": [
       "   war number  fatalities  year of war start  year of war end       country\n",
       "0         601        7000               1821             1823         SPAIN\n",
       "1         602        2000               1820             1821  TWO SICILIES\n",
       "2         602           0               1821             1821  TWO SICILIES\n",
       "3         603        1000               1821             1821      SARDINIA\n",
       "4         603           0               1821             1821      SARDINIA"
      ]
     },
     "execution_count": 12,
     "metadata": {},
     "output_type": "execute_result"
    }
   ],
   "source": [
    "coded.head(5)"
   ]
  },
  {
   "cell_type": "code",
   "execution_count": 13,
   "metadata": {
    "scrolled": true
   },
   "outputs": [],
   "source": [
    "coded=control_country(coded)"
   ]
  },
  {
   "cell_type": "code",
   "execution_count": 14,
   "metadata": {
    "scrolled": true
   },
   "outputs": [
    {
     "name": "stderr",
     "output_type": "stream",
     "text": [
      "C:\\Users\\2010y\\Anaconda3\\lib\\site-packages\\IPython\\core\\interactiveshell.py:3249: DtypeWarning: Columns (0,2,3,6,8) have mixed types.Specify dtype option on import or set low_memory=False.\n",
      "  if (await self.run_code(code, result,  async_=asy)):\n"
     ]
    }
   ],
   "source": [
    "democ_index=preprocess_democracy(\"20440-0001-Data.tsv\")"
   ]
  },
  {
   "cell_type": "code",
   "execution_count": 15,
   "metadata": {},
   "outputs": [
    {
     "name": "stderr",
     "output_type": "stream",
     "text": [
      "C:\\Users\\2010y\\Anaconda3\\lib\\site-packages\\matplotlib\\cbook\\__init__.py:1402: FutureWarning: Support for multi-dimensional indexing (e.g. `obj[:, None]`) is deprecated and will be removed in a future version.  Convert to a numpy array before indexing instead.\n",
      "  x[:, None]\n",
      "C:\\Users\\2010y\\Anaconda3\\lib\\site-packages\\matplotlib\\axes\\_base.py:276: FutureWarning: Support for multi-dimensional indexing (e.g. `obj[:, None]`) is deprecated and will be removed in a future version.  Convert to a numpy array before indexing instead.\n",
      "  x = x[:, np.newaxis]\n",
      "C:\\Users\\2010y\\Anaconda3\\lib\\site-packages\\matplotlib\\axes\\_base.py:278: FutureWarning: Support for multi-dimensional indexing (e.g. `obj[:, None]`) is deprecated and will be removed in a future version.  Convert to a numpy array before indexing instead.\n",
      "  y = y[:, np.newaxis]\n"
     ]
    },
    {
     "data": {
      "image/png": "[encoded data removed]",
      "text/plain": [
       "<Figure size 432x288 with 1 Axes>"
      ]
     },
     "metadata": {
      "needs_background": "light"
     },
     "output_type": "display_data"
    }
   ],
   "source": [
    "plt.plot(pd.to_numeric(democ_index[democ_index['ctryname']=='SPAIN']['year']),\n",
    "        democ_index[democ_index['ctryname']=='SPAIN']['democ'].astype(int),\n",
    "        label='Democracy')\n",
    "plt.plot(pd.to_numeric(democ_index[democ_index['ctryname']=='SPAIN']['year']),\n",
    "        democ_index[democ_index['ctryname']=='SPAIN']['liberty'].astype(int),\n",
    "        label='Liberty')\n",
    "plt.xticks(rotation = 90)\n",
    "plt.legend()\n",
    "plt.show()\n",
    "#t-test will show the difference between two scores."
   ]
  },
  {
   "cell_type": "code",
   "execution_count": 16,
   "metadata": {},
   "outputs": [
    {
     "data": {
      "image/png": "[encoded data removed]",
      "text/plain": [
       "<Figure size 432x288 with 1 Axes>"
      ]
     },
     "metadata": {
      "needs_background": "light"
     },
     "output_type": "display_data"
    }
   ],
   "source": [
    "plt.plot(pd.to_numeric(democ_index[democ_index['ctryname']=='TURKEY']['year']),\n",
    "        democ_index[democ_index['ctryname']=='TURKEY']['democ'].astype(int),\n",
    "        label='Democracy')\n",
    "plt.plot(pd.to_numeric(democ_index[democ_index['ctryname']=='TURKEY']['year']),\n",
    "        democ_index[democ_index['ctryname']=='TURKEY']['liberty'].astype(int),\n",
    "        label='Liberty')\n",
    "plt.xticks(rotation = 90)\n",
    "plt.legend()\n",
    "plt.savefig('TURKEY')\n",
    "plt.show()"
   ]
  },
  {
   "cell_type": "code",
   "execution_count": 17,
   "metadata": {},
   "outputs": [],
   "source": [
    "count_total_fatalities=coded.groupby(['ctryname','fatalities']).size()\n",
    "total_fatalities=pd.DataFrame(count_total_fatalities, columns=['counts'])\n",
    "total_fatalities.reset_index(inplace=True)\n",
    "total_fatalities['total']=total_fatalities['fatalities'].astype(int) * total_fatalities['counts'].astype(int)"
   ]
  },
  {
   "cell_type": "code",
   "execution_count": 18,
   "metadata": {},
   "outputs": [],
   "source": [
    "fatalities_per_country=pd.DataFrame(total_fatalities.groupby('ctryname')['total'].sum().reset_index())"
   ]
  },
  {
   "cell_type": "code",
   "execution_count": 19,
   "metadata": {},
   "outputs": [],
   "source": [
    "fatalities_per_country['t-test']=np.NaN"
   ]
  },
  {
   "cell_type": "code",
   "execution_count": 20,
   "metadata": {},
   "outputs": [
    {
     "name": "stderr",
     "output_type": "stream",
     "text": [
      "C:\\Users\\2010y\\Anaconda3\\lib\\site-packages\\pandas\\core\\indexing.py:1637: SettingWithCopyWarning: \n",
      "A value is trying to be set on a copy of a slice from a DataFrame\n",
      "\n",
      "See the caveats in the documentation: https://pandas.pydata.org/pandas-docs/stable/user_guide/indexing.html#returning-a-view-versus-a-copy\n",
      "  self._setitem_single_block(indexer, value, name)\n"
     ]
    }
   ],
   "source": [
    "for idx, val in fatalities_per_country.iterrows():\n",
    "    fatalities_per_country['t-test'].loc[idx]=\"{:.3f}\".format(stats.ttest_ind(democ_index[democ_index['ctryname']==val['ctryname']]['liberty'].astype(int),\n",
    "               democ_index[democ_index['ctryname']==val['ctryname']]['democ'].astype(int))[1])"
   ]
  },
  {
   "cell_type": "code",
   "execution_count": 21,
   "metadata": {},
   "outputs": [
    {
     "data": {
      "text/html": [
       "<div>\n",
       "<style scoped>\n",
       "    .dataframe tbody tr th:only-of-type {\n",
       "        vertical-align: middle;\n",
       "    }\n",
       "\n",
       "    .dataframe tbody tr th {\n",
       "        vertical-align: top;\n",
       "    }\n",
       "\n",
       "    .dataframe thead th {\n",
       "        text-align: right;\n",
       "    }\n",
       "</style>\n",
       "<table border=\"1\" class=\"dataframe\">\n",
       "  <thead>\n",
       "    <tr style=\"text-align: right;\">\n",
       "      <th></th>\n",
       "      <th>ctryname</th>\n",
       "      <th>total</th>\n",
       "      <th>t-test</th>\n",
       "    </tr>\n",
       "  </thead>\n",
       "  <tbody>\n",
       "    <tr>\n",
       "      <th>12</th>\n",
       "      <td>CHINA</td>\n",
       "      <td>3497525</td>\n",
       "      <td>0.000</td>\n",
       "    </tr>\n",
       "    <tr>\n",
       "      <th>0</th>\n",
       "      <td>AFGHANISTAN</td>\n",
       "      <td>1064000</td>\n",
       "      <td>0.000</td>\n",
       "    </tr>\n",
       "    <tr>\n",
       "      <th>39</th>\n",
       "      <td>NIGERIA</td>\n",
       "      <td>1006000</td>\n",
       "      <td>0.000</td>\n",
       "    </tr>\n",
       "    <tr>\n",
       "      <th>50</th>\n",
       "      <td>SPAIN</td>\n",
       "      <td>708850</td>\n",
       "      <td>0.000</td>\n",
       "    </tr>\n",
       "    <tr>\n",
       "      <th>57</th>\n",
       "      <td>UNITED STATES</td>\n",
       "      <td>651000</td>\n",
       "      <td>0.111</td>\n",
       "    </tr>\n",
       "    <tr>\n",
       "      <th>...</th>\n",
       "      <td>...</td>\n",
       "      <td>...</td>\n",
       "      <td>...</td>\n",
       "    </tr>\n",
       "    <tr>\n",
       "      <th>58</th>\n",
       "      <td>URUGUAY</td>\n",
       "      <td>1000</td>\n",
       "      <td>0.000</td>\n",
       "    </tr>\n",
       "    <tr>\n",
       "      <th>20</th>\n",
       "      <td>GEORGIA</td>\n",
       "      <td>1000</td>\n",
       "      <td>0.001</td>\n",
       "    </tr>\n",
       "    <tr>\n",
       "      <th>23</th>\n",
       "      <td>HONDURAS</td>\n",
       "      <td>1000</td>\n",
       "      <td>0.000</td>\n",
       "    </tr>\n",
       "    <tr>\n",
       "      <th>48</th>\n",
       "      <td>SARDINIA</td>\n",
       "      <td>1000</td>\n",
       "      <td>nan</td>\n",
       "    </tr>\n",
       "    <tr>\n",
       "      <th>53</th>\n",
       "      <td>TAJIKISTAN</td>\n",
       "      <td>1000</td>\n",
       "      <td>0.001</td>\n",
       "    </tr>\n",
       "  </tbody>\n",
       "</table>\n",
       "<p>66 rows × 3 columns</p>\n",
       "</div>"
      ],
      "text/plain": [
       "         ctryname    total t-test\n",
       "12          CHINA  3497525  0.000\n",
       "0     AFGHANISTAN  1064000  0.000\n",
       "39        NIGERIA  1006000  0.000\n",
       "50          SPAIN   708850  0.000\n",
       "57  UNITED STATES   651000  0.111\n",
       "..            ...      ...    ...\n",
       "58        URUGUAY     1000  0.000\n",
       "20        GEORGIA     1000  0.001\n",
       "23       HONDURAS     1000  0.000\n",
       "48       SARDINIA     1000    nan\n",
       "53     TAJIKISTAN     1000  0.001\n",
       "\n",
       "[66 rows x 3 columns]"
      ]
     },
     "execution_count": 21,
     "metadata": {},
     "output_type": "execute_result"
    }
   ],
   "source": [
    "fatalities_per_country.sort_values(by='total', ascending=False)"
   ]
  },
  {
   "cell_type": "code",
   "execution_count": 22,
   "metadata": {},
   "outputs": [],
   "source": [
    "df5=join_df_democ(coded, democ_index, 5)"
   ]
  },
  {
   "cell_type": "code",
   "execution_count": 23,
   "metadata": {},
   "outputs": [
    {
     "data": {
      "image/png": "[encoded data removed]",
      "text/plain": [
       "<Figure size 432x288 with 1 Axes>"
      ]
     },
     "metadata": {
      "needs_background": "light"
     },
     "output_type": "display_data"
    }
   ],
   "source": [
    "import seaborn as sns\n",
    "sns.scatterplot('ratio', 'delta', data=df5, hue='ctryname')\n",
    "plt.legend(bbox_to_anchor=(1, 0), loc='lower left', ncol=1)\n",
    "plt.show()"
   ]
  },
  {
   "cell_type": "code",
   "execution_count": 24,
   "metadata": {},
   "outputs": [
    {
     "name": "stdout",
     "output_type": "stream",
     "text": [
      "Slope is: 0.01810697250833288\n",
      "P-value is: 0.5243109627718738\n"
     ]
    }
   ],
   "source": [
    "x5=df5['ratio'].to_numpy().astype('int64')\n",
    "y5=df5['delta'].to_numpy().astype('int64')\n",
    "res_5yr=stats.linregress(x5, y5)\n",
    "print(\"Slope is: {}\\nP-value is: {}\".format(res_5yr.slope, res_5yr.pvalue))"
   ]
  },
  {
   "cell_type": "code",
   "execution_count": 25,
   "metadata": {},
   "outputs": [
    {
     "data": {
      "image/png": "[encoded data removed]",
      "text/plain": [
       "<Figure size 432x288 with 1 Axes>"
      ]
     },
     "metadata": {
      "needs_background": "light"
     },
     "output_type": "display_data"
    }
   ],
   "source": [
    "plt.plot(x5, y5, 'o', label='original data')\n",
    "plt.plot(x5, res_5yr.intercept + res_5yr.slope*x5, 'r', label='fitted line')\n",
    "plt.legend()\n",
    "plt.show()"
   ]
  },
  {
   "cell_type": "code",
   "execution_count": 26,
   "metadata": {},
   "outputs": [],
   "source": [
    "df10=join_df_democ(coded, democ_index, 10)"
   ]
  },
  {
   "cell_type": "code",
   "execution_count": 27,
   "metadata": {},
   "outputs": [
    {
     "name": "stdout",
     "output_type": "stream",
     "text": [
      "Slope is: 0.1324756134010814\n",
      "P-value is: 0.23916307803596604\n"
     ]
    }
   ],
   "source": [
    "x10=df10['ratio'].to_numpy().astype('int64')\n",
    "y10=df10['delta'].to_numpy().astype('int64')\n",
    "res_10yr=stats.linregress(x10, y10)\n",
    "print(\"Slope is: {}\\nP-value is: {}\".format(res_10yr.slope, res_10yr.pvalue))"
   ]
  },
  {
   "cell_type": "code",
   "execution_count": 28,
   "metadata": {},
   "outputs": [
    {
     "data": {
      "image/png": "[encoded data removed]",
      "text/plain": [
       "<Figure size 432x288 with 1 Axes>"
      ]
     },
     "metadata": {
      "needs_background": "light"
     },
     "output_type": "display_data"
    }
   ],
   "source": [
    "plt.plot(x10, y10, 'o', label='original data')\n",
    "plt.plot(x10, res_10yr.intercept + res_10yr.slope*x10, 'r', label='fitted line')\n",
    "plt.legend()\n",
    "plt.show()"
   ]
  },
  {
   "cell_type": "code",
   "execution_count": 29,
   "metadata": {},
   "outputs": [],
   "source": [
    "df20=join_df_democ(coded, democ_index, 20)"
   ]
  },
  {
   "cell_type": "code",
   "execution_count": 30,
   "metadata": {},
   "outputs": [
    {
     "name": "stdout",
     "output_type": "stream",
     "text": [
      "Slope is: -0.35839598997493677\n",
      "P-value is: 0.012355336512536263\n"
     ]
    }
   ],
   "source": [
    "x20=df20['ratio'].to_numpy().astype('int64')\n",
    "y20=df20['delta'].to_numpy().astype('int64')\n",
    "res_20yr=stats.linregress(x20, y20)\n",
    "print(\"Slope is: {}\\nP-value is: {}\".format(res_20yr.slope, res_20yr.pvalue))"
   ]
  },
  {
   "cell_type": "code",
   "execution_count": 31,
   "metadata": {},
   "outputs": [
    {
     "data": {
      "image/png": "[encoded data removed]",
      "text/plain": [
       "<Figure size 432x288 with 1 Axes>"
      ]
     },
     "metadata": {
      "needs_background": "light"
     },
     "output_type": "display_data"
    }
   ],
   "source": [
    "plt.plot(x20, y20, 'o', label='original data')\n",
    "plt.plot(x20, res_20yr.intercept + res_20yr.slope*x20, 'r', label='fitted line')\n",
    "plt.legend()\n",
    "plt.show()"
   ]
  },
  {
   "cell_type": "code",
   "execution_count": 32,
   "metadata": {},
   "outputs": [],
   "source": [
    "df5l=join_df_liberty(coded, democ_index, 5)"
   ]
  },
  {
   "cell_type": "code",
   "execution_count": 33,
   "metadata": {},
   "outputs": [
    {
     "name": "stdout",
     "output_type": "stream",
     "text": [
      "Slope is: 0.02950823577270035\n",
      "P-value is: 0.6174520231542439\n"
     ]
    }
   ],
   "source": [
    "x5l=df5l['ratio'].to_numpy().astype('int64')\n",
    "y5l=df5l['delta'].to_numpy().astype('int64')\n",
    "res_5yrl=stats.linregress(x5l, y5l)\n",
    "print(\"Slope is: {}\\nP-value is: {}\".format(res_5yrl.slope, res_5yrl.pvalue))"
   ]
  },
  {
   "cell_type": "code",
   "execution_count": 34,
   "metadata": {},
   "outputs": [
    {
     "data": {
      "image/png": "[encoded data removed]",
      "text/plain": [
       "<Figure size 432x288 with 1 Axes>"
      ]
     },
     "metadata": {
      "needs_background": "light"
     },
     "output_type": "display_data"
    }
   ],
   "source": [
    "plt.plot(x5l, y5l, 'o', label='original data')\n",
    "plt.plot(x5l, res_5yrl.intercept + res_5yrl.slope*x5l, 'r', label='fitted line')\n",
    "plt.legend()\n",
    "plt.show()"
   ]
  },
  {
   "cell_type": "code",
   "execution_count": 35,
   "metadata": {},
   "outputs": [],
   "source": [
    "df10l=join_df_liberty(coded, democ_index, 10)"
   ]
  },
  {
   "cell_type": "code",
   "execution_count": 36,
   "metadata": {},
   "outputs": [
    {
     "name": "stdout",
     "output_type": "stream",
     "text": [
      "Slope is: 0.23701872129989382\n",
      "P-value is: 0.2916737758655891\n"
     ]
    }
   ],
   "source": [
    "x10l=df10l['ratio'].to_numpy().astype('int64')\n",
    "y10l=df10l['delta'].to_numpy().astype('int64')\n",
    "res_10yrl=stats.linregress(x10l, y10l)\n",
    "print(\"Slope is: {}\\nP-value is: {}\".format(res_10yrl.slope, res_10yrl.pvalue))"
   ]
  },
  {
   "cell_type": "code",
   "execution_count": 37,
   "metadata": {},
   "outputs": [
    {
     "data": {
      "image/png": "[encoded data removed]",
      "text/plain": [
       "<Figure size 432x288 with 1 Axes>"
      ]
     },
     "metadata": {
      "needs_background": "light"
     },
     "output_type": "display_data"
    }
   ],
   "source": [
    "plt.plot(x10l, y10l, 'o', label='original data')\n",
    "plt.plot(x10l, res_10yrl.intercept + res_10yrl.slope*x10l, 'r', label='fitted line')\n",
    "plt.legend()\n",
    "plt.show()"
   ]
  },
  {
   "cell_type": "code",
   "execution_count": 38,
   "metadata": {},
   "outputs": [],
   "source": [
    "df20l=join_df_liberty(coded, democ_index, 20)"
   ]
  },
  {
   "cell_type": "code",
   "execution_count": 39,
   "metadata": {},
   "outputs": [
    {
     "name": "stdout",
     "output_type": "stream",
     "text": [
      "Slope is: -0.6646616541353384\n",
      "P-value is: 0.016353211850856707\n"
     ]
    }
   ],
   "source": [
    "x20l=df20l['ratio'].to_numpy().astype('int64')\n",
    "y20l=df20l['delta'].to_numpy().astype('int64')\n",
    "res_20yrl=stats.linregress(x20l, y20l)\n",
    "print(\"Slope is: {}\\nP-value is: {}\".format(res_20yrl.slope, res_20yrl.pvalue))"
   ]
  },
  {
   "cell_type": "code",
   "execution_count": 40,
   "metadata": {},
   "outputs": [
    {
     "data": {
      "image/png": "[encoded data removed]",
      "text/plain": [
       "<Figure size 432x288 with 1 Axes>"
      ]
     },
     "metadata": {
      "needs_background": "light"
     },
     "output_type": "display_data"
    }
   ],
   "source": [
    "plt.plot(x20l, y20l, 'o', label='original data')\n",
    "plt.plot(x20l, res_20yrl.intercept + res_20yrl.slope*x20l, 'r', label='fitted line')\n",
    "plt.legend()\n",
    "plt.show()"
   ]
  }
 ],
 "metadata": {
  "kernelspec": {
   "display_name": "Python 3",
   "language": "python",
   "name": "python3"
  },
  "language_info": {
   "codemirror_mode": {
    "name": "ipython",
    "version": 3
   },
   "file_extension": ".py",
   "mimetype": "text/x-python",
   "name": "python",
   "nbconvert_exporter": "python",
   "pygments_lexer": "ipython3",
   "version": "3.7.4"
  }
 },
 "nbformat": 4,
 "nbformat_minor": 2
}
